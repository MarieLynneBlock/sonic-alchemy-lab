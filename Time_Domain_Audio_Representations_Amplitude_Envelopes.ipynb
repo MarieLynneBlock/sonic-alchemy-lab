{
 "cells": [
  {
   "cell_type": "markdown",
   "metadata": {
    "id": "SHSN9CO6BUl-"
   },
   "source": [
    "# **Amplitude Envelope (AE)**\n",
    "The AE is a representation of how the maximum amplitude of a sound varies within specific time frames. It essentially captures the 'shape' of the sound's loudness over time, making it a vital tool for understanding the dynamics and expressiveness of music. By analyzing the AE, we can gain insights into various aspects of a sound, such as its rhythmic structure, intensity changes, and emotional impact.\n"
   ]
  },
  {
   "cell_type": "code",
   "execution_count": null,
   "metadata": {},
   "outputs": [],
   "source": [
    "%pip install librosa numpy matplotlib"
   ]
  },
  {
   "cell_type": "code",
   "execution_count": null,
   "metadata": {},
   "outputs": [],
   "source": [
    "import librosa\n",
    "import logging\n",
    "import os\n",
    "\n",
    "import numpy as np\n",
    "import matplotlib.pyplot as plt\n",
    "import logging\n",
    "\n",
    "from IPython.display import Audio, display\n",
    "from io import BytesIO\n"
   ]
  },
  {
   "cell_type": "code",
   "execution_count": null,
   "metadata": {},
   "outputs": [],
   "source": [
    "# Configure logging\n",
    "logging.basicConfig(level=logging.INFO, format='%(asctime)s - %(levelname)s: %(message)s')"
   ]
  },
  {
   "cell_type": "code",
   "execution_count": null,
   "metadata": {},
   "outputs": [],
   "source": [
    "def analyse_audio(file_path):\n",
    "    \"\"\"\n",
    "    Load an audio file, calculate its amplitude envelope, and plot the original signal \n",
    "    along with the amplitude envelope.\n",
    "\n",
    "    Args:\n",
    "        file_path (str): Path to the audio file.\n",
    "\n",
    "    Returns:\n",
    "        tuple: (y, sr, amplitude_envelope, time, t_frames)\n",
    "            y: Audio time series\n",
    "            sr: Sampling rate\n",
    "            amplitude_envelope: Amplitude envelope of the audio\n",
    "            time: Time vector for the original signal\n",
    "            t_frames: Time vector for the amplitude envelope\n",
    "    \"\"\"\n",
    "\n",
    "    try:\n",
    "        # Load the audio file\n",
    "        logging.info(f\"Loading audio file from: {file_path}\")\n",
    "        y, sr = librosa.load(file_path, sr=None)\n",
    "        \n",
    "        # Amplitude Envelope\n",
    "        frame_size = 2056\n",
    "        hop_length = 128\n",
    "        logging.info(\"Calculating amplitude envelope\")\n",
    "        amplitude_envelope = np.array([max(y[i:i+frame_size]) for i in range(0, len(y), hop_length)])\n",
    "\n",
    "        # Time vector for the original signal\n",
    "        time = np.linspace(0, len(y) / sr, num=len(y))\n",
    "\n",
    "        # Time vector for features\n",
    "        frames = range(len(amplitude_envelope))\n",
    "        t_frames = librosa.frames_to_time(frames, sr=sr, hop_length=hop_length)\n",
    "        \n",
    "        return y, sr, amplitude_envelope, time, t_frames\n",
    "   \n",
    "    except FileNotFoundError:\n",
    "        logging.error(f\"File not found: {file_path}\")\n",
    "    \n",
    "    except Exception as e:\n",
    "        logging.error(f\"An error occurred: {e}\")"
   ]
  },
  {
   "cell_type": "code",
   "execution_count": null,
   "metadata": {},
   "outputs": [],
   "source": [
    "# Load and analyze the audio file\n",
    "audio_file_path = './local_data/sax-baritone_a3.wav'  # TODO: change to the file you want to analyze\n",
    "y, sr, amplitude_envelope, time, t_frames = analyse_audio(audio_file_path)\n",
    "audio_display = Audio(audio_file_path)\n",
    "audio_display"
   ]
  },
  {
   "cell_type": "code",
   "execution_count": null,
   "metadata": {},
   "outputs": [],
   "source": [
    "# Function to ensure the directory exists\n",
    "def ensure_directory(directory):\n",
    "    if not os.path.exists(directory):\n",
    "        os.makedirs(directory)\n",
    "\n",
    "# Plot the original signal and Amplitude Envelope\n",
    "logging.info(\"Plotting the original signal and amplitude envelope\")\n",
    "fig, ax = plt.subplots(figsize=(14, 5))\n",
    "\n",
    "# Set background color\n",
    "fig.patch.set_facecolor('#2E3440')\n",
    "\n",
    "# Extract the file name from the file path\n",
    "file_name = os.path.basename(audio_file_path)\n",
    "file_base_name, _ = os.path.splitext(file_name)\n",
    "\n",
    "# Plot the original signal and amplitude envelope\n",
    "ax.plot(time, y, color='#81A1C1', label='Original Signal')  # Full wave color\n",
    "ax.plot(t_frames, amplitude_envelope, color='#BF616A', label='Amplitude Envelope')  # Amplitude envelope color\n",
    "\n",
    "# Add the song title in bold and the subtitle below it\n",
    "title = file_name\n",
    "subtitle = \"Original Signal and Amplitude Envelope\"\n",
    "\n",
    "# Title with mixed font weights (for readablity)\n",
    "ax.text(0.5, 1.10, title, transform=ax.transAxes, fontsize=14, fontweight='bold', color='#D8DEE9', ha='center')\n",
    "ax.text(0.5, 1.04, subtitle, transform=ax.transAxes, fontsize=12, fontweight='normal', color='#D8DEE9', ha='center')\n",
    "\n",
    "# Set titles and labels\n",
    "ax.set_xlabel('Time [s]', color='#D8DEE9')\n",
    "ax.set_ylabel('Amplitude', color='#D8DEE9')\n",
    "\n",
    "# Set the axes background color\n",
    "ax.set_facecolor('#2E3440')\n",
    "\n",
    "# Set the axes spine color\n",
    "ax.spines['bottom'].set_color('#D8DEE9')\n",
    "ax.spines['top'].set_color('#D8DEE9')\n",
    "ax.spines['right'].set_color('#D8DEE9')\n",
    "ax.spines['left'].set_color('#D8DEE9')\n",
    "\n",
    "# Set the tick parameters color\n",
    "ax.tick_params(axis='x', colors='#D8DEE9')\n",
    "ax.tick_params(axis='y', colors='#D8DEE9')\n",
    "\n",
    "# Customize the legend\n",
    "legend = ax.legend(facecolor='#2E3440', edgecolor='#D8DEE9', labelcolor='#D8DEE9')\n",
    "for text in legend.get_texts():\n",
    "    text.set_color('#D8DEE9')\n",
    "\n",
    "# Ensure the output directory exists\n",
    "output_directory = './local_data/output_graphs'\n",
    "ensure_directory(output_directory)\n",
    "\n",
    "# Save the plot\n",
    "output_path = os.path.join(output_directory, f'AE_{file_base_name}.png')\n",
    "plt.savefig(output_path, facecolor='#2E3440')\n",
    "\n",
    "# Show the plot\n",
    "plt.show()\n",
    "\n",
    "# Log the saved plot location\n",
    "logging.info(f\"Plot saved to: {output_path}\")"
   ]
  }
 ],
 "metadata": {
  "colab": {
   "provenance": []
  },
  "kernelspec": {
   "display_name": "sound-analysis",
   "language": "python",
   "name": "python3"
  },
  "language_info": {
   "codemirror_mode": {
    "name": "ipython",
    "version": 3
   },
   "file_extension": ".py",
   "mimetype": "text/x-python",
   "name": "python",
   "nbconvert_exporter": "python",
   "pygments_lexer": "ipython3",
   "version": "3.11.8 | packaged by conda-forge | (main, Feb 16 2024, 20:49:36) [Clang 16.0.6 ]"
  },
  "vscode": {
   "interpreter": {
    "hash": "1efe25258e83039137ae712b5deeedfd58a31f63597ebfbdedf9fdd44e29396b"
   }
  }
 },
 "nbformat": 4,
 "nbformat_minor": 4
}
