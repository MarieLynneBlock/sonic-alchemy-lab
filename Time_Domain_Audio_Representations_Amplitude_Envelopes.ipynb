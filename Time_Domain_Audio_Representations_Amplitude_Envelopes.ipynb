{
 "cells": [
  {
   "cell_type": "markdown",
   "metadata": {
    "id": "SHSN9CO6BUl-"
   },
   "source": [
    "# **Amplitude Envelope (AE)**\n",
    "The AE is a representation of how the maximum amplitude of a sound varies within specific time frames. It essentially captures the 'shape' of the sound's loudness over time, making it a vital tool for understanding the dynamics and expressiveness of music. By analyzing the AE, we can gain insights into various aspects of a sound, such as its rhythmic structure, intensity changes, and emotional impact.\n"
   ]
  },
  {
   "cell_type": "code",
   "execution_count": 2,
   "metadata": {},
   "outputs": [
    {
     "name": "stdout",
     "output_type": "stream",
     "text": [
      "Requirement already satisfied: librosa in /Users/lien/miniconda3/envs/sound-analysis/lib/python3.11/site-packages (0.10.2.post1)\n",
      "Requirement already satisfied: numpy in /Users/lien/miniconda3/envs/sound-analysis/lib/python3.11/site-packages (2.0.1)\n",
      "Requirement already satisfied: matplotlib in /Users/lien/miniconda3/envs/sound-analysis/lib/python3.11/site-packages (3.9.1)\n",
      "Requirement already satisfied: ipywidgets in /Users/lien/miniconda3/envs/sound-analysis/lib/python3.11/site-packages (8.1.3)\n",
      "Requirement already satisfied: audioread>=2.1.9 in /Users/lien/miniconda3/envs/sound-analysis/lib/python3.11/site-packages (from librosa) (3.0.1)\n",
      "Requirement already satisfied: scipy>=1.2.0 in /Users/lien/miniconda3/envs/sound-analysis/lib/python3.11/site-packages (from librosa) (1.14.0)\n",
      "Requirement already satisfied: scikit-learn>=0.20.0 in /Users/lien/miniconda3/envs/sound-analysis/lib/python3.11/site-packages (from librosa) (1.5.1)\n",
      "Requirement already satisfied: joblib>=0.14 in /Users/lien/miniconda3/envs/sound-analysis/lib/python3.11/site-packages (from librosa) (1.4.2)\n",
      "Requirement already satisfied: decorator>=4.3.0 in /Users/lien/miniconda3/envs/sound-analysis/lib/python3.11/site-packages (from librosa) (5.1.1)\n",
      "Requirement already satisfied: numba>=0.51.0 in /Users/lien/miniconda3/envs/sound-analysis/lib/python3.11/site-packages (from librosa) (0.60.0)\n",
      "Requirement already satisfied: soundfile>=0.12.1 in /Users/lien/miniconda3/envs/sound-analysis/lib/python3.11/site-packages (from librosa) (0.12.1)\n",
      "Requirement already satisfied: pooch>=1.1 in /Users/lien/miniconda3/envs/sound-analysis/lib/python3.11/site-packages (from librosa) (1.8.2)\n",
      "Requirement already satisfied: soxr>=0.3.2 in /Users/lien/miniconda3/envs/sound-analysis/lib/python3.11/site-packages (from librosa) (0.4.0)\n",
      "Requirement already satisfied: typing-extensions>=4.1.1 in /Users/lien/miniconda3/envs/sound-analysis/lib/python3.11/site-packages (from librosa) (4.12.2)\n",
      "Requirement already satisfied: lazy-loader>=0.1 in /Users/lien/miniconda3/envs/sound-analysis/lib/python3.11/site-packages (from librosa) (0.4)\n",
      "Requirement already satisfied: msgpack>=1.0 in /Users/lien/miniconda3/envs/sound-analysis/lib/python3.11/site-packages (from librosa) (1.0.8)\n",
      "Requirement already satisfied: contourpy>=1.0.1 in /Users/lien/miniconda3/envs/sound-analysis/lib/python3.11/site-packages (from matplotlib) (1.2.1)\n",
      "Requirement already satisfied: cycler>=0.10 in /Users/lien/miniconda3/envs/sound-analysis/lib/python3.11/site-packages (from matplotlib) (0.12.1)\n",
      "Requirement already satisfied: fonttools>=4.22.0 in /Users/lien/miniconda3/envs/sound-analysis/lib/python3.11/site-packages (from matplotlib) (4.53.1)\n",
      "Requirement already satisfied: kiwisolver>=1.3.1 in /Users/lien/miniconda3/envs/sound-analysis/lib/python3.11/site-packages (from matplotlib) (1.4.5)\n",
      "Requirement already satisfied: packaging>=20.0 in /Users/lien/miniconda3/envs/sound-analysis/lib/python3.11/site-packages (from matplotlib) (24.1)\n",
      "Requirement already satisfied: pillow>=8 in /Users/lien/miniconda3/envs/sound-analysis/lib/python3.11/site-packages (from matplotlib) (10.4.0)\n",
      "Requirement already satisfied: pyparsing>=2.3.1 in /Users/lien/miniconda3/envs/sound-analysis/lib/python3.11/site-packages (from matplotlib) (3.1.2)\n",
      "Requirement already satisfied: python-dateutil>=2.7 in /Users/lien/miniconda3/envs/sound-analysis/lib/python3.11/site-packages (from matplotlib) (2.9.0)\n",
      "Requirement already satisfied: comm>=0.1.3 in /Users/lien/miniconda3/envs/sound-analysis/lib/python3.11/site-packages (from ipywidgets) (0.2.2)\n",
      "Requirement already satisfied: ipython>=6.1.0 in /Users/lien/miniconda3/envs/sound-analysis/lib/python3.11/site-packages (from ipywidgets) (8.26.0)\n",
      "Requirement already satisfied: traitlets>=4.3.1 in /Users/lien/miniconda3/envs/sound-analysis/lib/python3.11/site-packages (from ipywidgets) (5.14.3)\n",
      "Requirement already satisfied: widgetsnbextension~=4.0.11 in /Users/lien/miniconda3/envs/sound-analysis/lib/python3.11/site-packages (from ipywidgets) (4.0.11)\n",
      "Requirement already satisfied: jupyterlab-widgets~=3.0.11 in /Users/lien/miniconda3/envs/sound-analysis/lib/python3.11/site-packages (from ipywidgets) (3.0.11)\n",
      "Requirement already satisfied: jedi>=0.16 in /Users/lien/miniconda3/envs/sound-analysis/lib/python3.11/site-packages (from ipython>=6.1.0->ipywidgets) (0.19.1)\n",
      "Requirement already satisfied: matplotlib-inline in /Users/lien/miniconda3/envs/sound-analysis/lib/python3.11/site-packages (from ipython>=6.1.0->ipywidgets) (0.1.7)\n",
      "Requirement already satisfied: prompt-toolkit<3.1.0,>=3.0.41 in /Users/lien/miniconda3/envs/sound-analysis/lib/python3.11/site-packages (from ipython>=6.1.0->ipywidgets) (3.0.47)\n",
      "Requirement already satisfied: pygments>=2.4.0 in /Users/lien/miniconda3/envs/sound-analysis/lib/python3.11/site-packages (from ipython>=6.1.0->ipywidgets) (2.18.0)\n",
      "Requirement already satisfied: stack-data in /Users/lien/miniconda3/envs/sound-analysis/lib/python3.11/site-packages (from ipython>=6.1.0->ipywidgets) (0.6.2)\n",
      "Requirement already satisfied: pexpect>4.3 in /Users/lien/miniconda3/envs/sound-analysis/lib/python3.11/site-packages (from ipython>=6.1.0->ipywidgets) (4.9.0)\n",
      "Requirement already satisfied: llvmlite<0.44,>=0.43.0dev0 in /Users/lien/miniconda3/envs/sound-analysis/lib/python3.11/site-packages (from numba>=0.51.0->librosa) (0.43.0)\n",
      "Requirement already satisfied: platformdirs>=2.5.0 in /Users/lien/miniconda3/envs/sound-analysis/lib/python3.11/site-packages (from pooch>=1.1->librosa) (4.2.2)\n",
      "Requirement already satisfied: requests>=2.19.0 in /Users/lien/miniconda3/envs/sound-analysis/lib/python3.11/site-packages (from pooch>=1.1->librosa) (2.32.3)\n",
      "Requirement already satisfied: six>=1.5 in /Users/lien/miniconda3/envs/sound-analysis/lib/python3.11/site-packages (from python-dateutil>=2.7->matplotlib) (1.16.0)\n",
      "Requirement already satisfied: threadpoolctl>=3.1.0 in /Users/lien/miniconda3/envs/sound-analysis/lib/python3.11/site-packages (from scikit-learn>=0.20.0->librosa) (3.5.0)\n",
      "Requirement already satisfied: cffi>=1.0 in /Users/lien/miniconda3/envs/sound-analysis/lib/python3.11/site-packages (from soundfile>=0.12.1->librosa) (1.16.0)\n",
      "Requirement already satisfied: pycparser in /Users/lien/miniconda3/envs/sound-analysis/lib/python3.11/site-packages (from cffi>=1.0->soundfile>=0.12.1->librosa) (2.22)\n",
      "Requirement already satisfied: parso<0.9.0,>=0.8.3 in /Users/lien/miniconda3/envs/sound-analysis/lib/python3.11/site-packages (from jedi>=0.16->ipython>=6.1.0->ipywidgets) (0.8.4)\n",
      "Requirement already satisfied: ptyprocess>=0.5 in /Users/lien/miniconda3/envs/sound-analysis/lib/python3.11/site-packages (from pexpect>4.3->ipython>=6.1.0->ipywidgets) (0.7.0)\n",
      "Requirement already satisfied: wcwidth in /Users/lien/miniconda3/envs/sound-analysis/lib/python3.11/site-packages (from prompt-toolkit<3.1.0,>=3.0.41->ipython>=6.1.0->ipywidgets) (0.2.13)\n",
      "Requirement already satisfied: charset-normalizer<4,>=2 in /Users/lien/miniconda3/envs/sound-analysis/lib/python3.11/site-packages (from requests>=2.19.0->pooch>=1.1->librosa) (3.3.2)\n",
      "Requirement already satisfied: idna<4,>=2.5 in /Users/lien/miniconda3/envs/sound-analysis/lib/python3.11/site-packages (from requests>=2.19.0->pooch>=1.1->librosa) (3.7)\n",
      "Requirement already satisfied: urllib3<3,>=1.21.1 in /Users/lien/miniconda3/envs/sound-analysis/lib/python3.11/site-packages (from requests>=2.19.0->pooch>=1.1->librosa) (2.2.2)\n",
      "Requirement already satisfied: certifi>=2017.4.17 in /Users/lien/miniconda3/envs/sound-analysis/lib/python3.11/site-packages (from requests>=2.19.0->pooch>=1.1->librosa) (2024.7.4)\n",
      "Requirement already satisfied: executing>=1.2.0 in /Users/lien/miniconda3/envs/sound-analysis/lib/python3.11/site-packages (from stack-data->ipython>=6.1.0->ipywidgets) (2.0.1)\n",
      "Requirement already satisfied: asttokens>=2.1.0 in /Users/lien/miniconda3/envs/sound-analysis/lib/python3.11/site-packages (from stack-data->ipython>=6.1.0->ipywidgets) (2.4.1)\n",
      "Requirement already satisfied: pure-eval in /Users/lien/miniconda3/envs/sound-analysis/lib/python3.11/site-packages (from stack-data->ipython>=6.1.0->ipywidgets) (0.2.3)\n"
     ]
    }
   ],
   "source": [
    "!pip install librosa numpy matplotlib ipywidgets"
   ]
  },
  {
   "cell_type": "code",
   "execution_count": 3,
   "metadata": {},
   "outputs": [],
   "source": [
    "import librosa\n",
    "\n",
    "import numpy as np\n",
    "import matplotlib.pyplot as plt\n",
    "import ipywidgets as widgets\n",
    "\n",
    "from IPython.display import Audio, display\n",
    "from io import BytesIO"
   ]
  },
  {
   "cell_type": "code",
   "execution_count": 9,
   "metadata": {},
   "outputs": [
    {
     "data": {
      "application/vnd.jupyter.widget-view+json": {
       "model_id": "420ef20520154d018ca8e141bccc4d7f",
       "version_major": 2,
       "version_minor": 0
      },
      "text/plain": [
       "FileUpload(value=(), accept='.wav,.mp3,.flac', description='Upload')"
      ]
     },
     "metadata": {},
     "output_type": "display_data"
    }
   ],
   "source": [
    "# Function to handle the uploaded file\n",
    "def on_upload_change(change):\n",
    "    for name, file_info in change['new'].items():\n",
    "        print(f\"User uploaded file '{name}' with length {len(file_info['content'])} bytes.\")\n",
    "        audio_data = BytesIO(file_info['content'])\n",
    "        analyze_audio(audio_data)\n",
    "        display(Audio(audio_data))\n",
    "\n",
    "# Create an upload widget\n",
    "upload_widget = widgets.FileUpload(accept='.wav,.mp3,.flac', multiple=False)\n",
    "upload_widget.observe(on_upload_change, names='value')\n",
    "\n",
    "display(upload_widget)"
   ]
  },
  {
   "cell_type": "code",
   "execution_count": 12,
   "metadata": {
    "id": "URe-vmrKQdn4"
   },
   "outputs": [],
   "source": [
    "# Function to load and analyze the audio file\n",
    "def analyze_audio(file_path):\n",
    "    y, sr = librosa.load(file_path, sr=None)\n",
    "\n",
    "    # Amplitude Envelope\n",
    "    frame_size = 2056\n",
    "    hop_length = 128\n",
    "    amplitude_envelope = np.array([max(y[i:i+frame_size]) for i in range(0, len(y), hop_length)])\n",
    "\n",
    "    # Time vector for the original signal\n",
    "    time = np.linspace(0, len(y) / sr, num=len(y))\n",
    "\n",
    "    # Time vector for features\n",
    "    frames = range(len(amplitude_envelope))\n",
    "    t_frames = librosa.frames_to_time(frames, sr=sr, hop_length=hop_length)\n",
    "\n",
    "    # Plot the original signal and Amplitude Envelope\n",
    "    plt.figure(figsize=(14, 5))\n",
    "    plt.plot(time, y, color='cyan', label='Original Signal')\n",
    "    plt.plot(t_frames, amplitude_envelope, color='red', label='Amplitude Envelope')\n",
    "    plt.title('Original Signal and Amplitude Envelope')\n",
    "    plt.xlabel('Time [s]')\n",
    "    plt.ylabel('Amplitude')\n",
    "    plt.legend()\n",
    "    plt.show()\n"
   ]
  },
  {
   "cell_type": "markdown",
   "metadata": {
    "id": "AvXJNMxIWE9A"
   },
   "source": [
    "Now we will upload and calculate the amplitude envelope of a swing orchestral song, Frank Sinatra - (Theme from) New York, New York"
   ]
  },
  {
   "cell_type": "code",
   "execution_count": null,
   "metadata": {
    "id": "yHDOO6u6NyOv"
   },
   "outputs": [],
   "source": [
    "# Upload the another file using Google Colab's file upload dialog\n",
    "uploaded_song_2 = files.upload()\n",
    "\n",
    "# Analyze and display the newly uploaded file\n",
    "for filename in uploaded_song_2.keys():\n",
    "    print(f\"User uploaded file '{filename}' with length {len(uploaded_song_2[filename])} bytes.\")\n",
    "    analyze_audio(filename)\n",
    "    display(Audio(filename))\n"
   ]
  },
  {
   "cell_type": "markdown",
   "metadata": {
    "id": "RluXjgO-W8LO"
   },
   "source": [
    "Now the same process with a Taylor Swift pop song, \"Shake it off\""
   ]
  },
  {
   "cell_type": "code",
   "execution_count": null,
   "metadata": {
    "id": "SW7rl_JuO75R"
   },
   "outputs": [],
   "source": [
    "# Upload a third file using Google Colab's file upload dialog\n",
    "uploaded_song_3 = files.upload()\n",
    "\n",
    "# Analyze and display the newly uploaded file\n",
    "for filename in uploaded_song_3.keys():\n",
    "    print(f\"User uploaded file '{filename}' with length {len(uploaded_song_3[filename])} bytes.\")\n",
    "    analyze_audio(filename)\n",
    "    display(Audio(filename))\n"
   ]
  }
 ],
 "metadata": {
  "colab": {
   "provenance": []
  },
  "kernelspec": {
   "display_name": "sound-analysis",
   "language": "python",
   "name": "sound-analysis"
  },
  "language_info": {
   "codemirror_mode": {
    "name": "ipython",
    "version": 3
   },
   "file_extension": ".py",
   "mimetype": "text/x-python",
   "name": "python",
   "nbconvert_exporter": "python",
   "pygments_lexer": "ipython3",
   "version": "3.11.8"
  },
  "vscode": {
   "interpreter": {
    "hash": "1efe25258e83039137ae712b5deeedfd58a31f63597ebfbdedf9fdd44e29396b"
   }
  }
 },
 "nbformat": 4,
 "nbformat_minor": 4
}
