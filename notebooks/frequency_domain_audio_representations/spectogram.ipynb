{
 "cells": [
  {
   "cell_type": "markdown",
   "metadata": {},
   "source": [
    "   # **Spectrogram Analysis**\n",
    "   A spectrogram is a visual representation of the spectrum of frequencies in a sound signal as they vary with time. It is a powerful tool for analyzing the frequency content of audio signals, identifying patterns, and understanding the temporal evolution of sound."
   ]
  },
  {
   "cell_type": "code",
   "execution_count": null,
   "metadata": {},
   "outputs": [],
   "source": [
    "%pip install librosa numpy matplotlib"
   ]
  },
  {
   "cell_type": "code",
   "execution_count": null,
   "metadata": {},
   "outputs": [],
   "source": [
    "import librosa\n",
    "import numpy as np\n",
    "import matplotlib.pyplot as plt\n",
    "import os\n",
    "import sys\n",
    "import logging\n",
    "\n",
    "from IPython.display import Audio, display"
   ]
  },
  {
   "cell_type": "code",
   "execution_count": null,
   "metadata": {},
   "outputs": [],
   "source": [
    "# Adjust sys.path to include the root directory\n",
    "logging.info(\"Adjusting sys.path to include the root directory\")\n",
    "root_dir = os.path.abspath(os.path.join(os.getcwd(), '../../'))\n",
    "if root_dir not in sys.path:\n",
    "    sys.path.append(root_dir)\n",
    "logging.info(f\"sys.path adjusted: {sys.path}\")"
   ]
  },
  {
   "cell_type": "code",
   "execution_count": null,
   "metadata": {},
   "outputs": [],
   "source": [
    "# Local Imports & Parameters\n",
    "logging.info(\"Local configurations and parameters imported\")\n",
    "from config.config import audio_config, output_config\n",
    "from config.parameters import *\n",
    "from config.logging import setup_logging\n",
    "\n",
    "# Plot configurations\n",
    "from config.matplotlib_plots import configure_plot\n",
    "logging.info(\"Local configurations and parameters imported\")"
   ]
  },
  {
   "cell_type": "code",
   "execution_count": null,
   "metadata": {},
   "outputs": [],
   "source": [
    "# Set up logging for this notebook\n",
    "logging.info(\"Setting up logging for the notebook\")\n",
    "notebook_path = os.path.join(os.getcwd(), 'spectogram.ipynb')\n",
    "setup_logging(notebook_path)\n",
    "logging.info(\"Logging set up complete\")"
   ]
  },
  {
   "cell_type": "code",
   "execution_count": null,
   "metadata": {},
   "outputs": [],
   "source": [
    "def load_audio(file_key):\n",
    "    \"\"\"\n",
    "    Load an audio file.\n",
    "\n",
    "    Args:\n",
    "        file_key (str): Key to identify the audio file in AUDIO_FILES.\n",
    "\n",
    "    Returns:\n",
    "        tuple: Audio time series and sampling rate.\n",
    "    \"\"\"\n",
    "    audio_file = audio_config.get_audio_file(file_key)\n",
    "    if not audio_file:\n",
    "        logging.error(f\"Audio file key '{file_key}' not found.\")\n",
    "        raise ValueError(f\"Audio file key '{file_key}' not found.\")\n",
    "    \n",
    "    try:\n",
    "        y, sr = librosa.load(audio_file)\n",
    "        logging.info(f\"Loaded audio file: {audio_file}\")\n",
    "        return y, sr\n",
    "    \n",
    "    except Exception as e:\n",
    "        logging.error(f\"Failed to load audio file: {e}\")\n",
    "        raise"
   ]
  },
  {
   "cell_type": "code",
   "execution_count": null,
   "metadata": {},
   "outputs": [],
   "source": [
    "def compute_spectrogram(y, sr, n_fft=DEFAULT_N_FFT, hop_length=DEFAULT_HOP_LENGTH):\n",
    "    \"\"\"\n",
    "    Compute the spectrogram of the audio signal.\n",
    "\n",
    "    Args:\n",
    "        y (np.ndarray): Audio time series.\n",
    "        sr (int): Sampling rate.\n",
    "        n_fft (int, optional): Number of FFT components. Defaults to DEFAULT_N_FFT.\n",
    "        hop_length (int, optional): Number of samples between successive frames. Defaults to DEFAULT_HOP_LENGTH.\n",
    "\n",
    "    Returns:\n",
    "        np.ndarray: Spectrogram.\n",
    "    \"\"\"\n",
    "    D = np.abs(librosa.stft(y, n_fft=n_fft, hop_length=hop_length))\n",
    "    logging.info(\"Computed spectrogram.\")\n",
    "    return D"
   ]
  },
  {
   "cell_type": "code",
   "execution_count": null,
   "metadata": {},
   "outputs": [],
   "source": [
    "def plot_and_save_spectrogram(D, sr, hop_length, output_path):\n",
    "    \"\"\"\n",
    "    Plot and save the spectrogram.\n",
    "\n",
    "    Args:\n",
    "        D (np.ndarray): Spectrogram.\n",
    "        sr (int): Sampling rate.\n",
    "        hop_length (int): Number of samples between successive frames.\n",
    "        output_path (str): Path to save the spectrogram plot.\n",
    "    \"\"\"\n",
    "    fig, ax = plt.subplots(figsize=FIGURE_SIZE)\n",
    "    \n",
    "    # Set the background color for the figure and axes\n",
    "    fig.patch.set_facecolor(BACKGROUND_COLOR)\n",
    "    ax.set_facecolor(BACKGROUND_COLOR)\n",
    "    \n",
    "    img = librosa.display.specshow(\n",
    "        librosa.amplitude_to_db(D, ref=np.max),\n",
    "        sr=sr,\n",
    "        hop_length=hop_length,\n",
    "        x_axis='time',\n",
    "        y_axis='log',\n",
    "        ax=ax\n",
    "    )\n",
    "    cbar = fig.colorbar(img, format='%+2.0f dB')\n",
    "    cbar.ax.set_facecolor(BACKGROUND_COLOR)\n",
    "    \n",
    "    # Set color for the color bar labels\n",
    "    cbar.ax.yaxis.set_tick_params(color=SPINE_COLOR)\n",
    "    plt.setp(plt.getp(cbar.ax.axes, 'yticklabels'), color=SPINE_COLOR)\n",
    "    \n",
    "    # Configure the plot using the existing function\n",
    "    configure_plot(ax, title='Spectrogram', subtitle='Frequency Domain Representation')\n",
    "    \n",
    "    plt.tight_layout()\n",
    "    plt.savefig(output_path, facecolor=BACKGROUND_COLOR)\n",
    "    plt.show()\n",
    "    \n",
    "    logging.info(f\"Spectrogram plot saved to: {output_path}\")"
   ]
  },
  {
   "cell_type": "code",
   "execution_count": null,
   "metadata": {},
   "outputs": [],
   "source": [
    "# Load Audio File\n",
    "y, sr = load_audio(AUDIO_FILE_SAX_A3)"
   ]
  },
  {
   "cell_type": "code",
   "execution_count": null,
   "metadata": {},
   "outputs": [],
   "source": [
    "# Compute Spectrogram\n",
    "D = compute_spectrogram(y, sr)"
   ]
  },
  {
   "cell_type": "code",
   "execution_count": null,
   "metadata": {},
   "outputs": [],
   "source": [
    "# Define Output Path\n",
    "output_dir = output_config.get_output_directory(\"frequency_domain\")\n",
    "output_path = os.path.join(output_dir, 'Spectrogram.png')\n",
    "\n",
    "# Plot and Save Spectrogram\n",
    "plot_and_save_spectrogram(D, sr, DEFAULT_HOP_LENGTH, output_path)"
   ]
  }
 ],
 "metadata": {
  "kernelspec": {
   "display_name": "sound-analysis",
   "language": "python",
   "name": "python3"
  },
  "language_info": {
   "codemirror_mode": {
    "name": "ipython",
    "version": 3
   },
   "file_extension": ".py",
   "mimetype": "text/x-python",
   "name": "python",
   "nbconvert_exporter": "python",
   "pygments_lexer": "ipython3",
   "version": "3.11.8"
  }
 },
 "nbformat": 4,
 "nbformat_minor": 2
}
