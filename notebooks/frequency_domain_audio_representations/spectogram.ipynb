{
 "cells": [
  {
   "cell_type": "markdown",
   "metadata": {},
   "source": [
    "   # **Spectrogram Analysis**\n",
    "   A spectrogram is a visual representation of the spectrum of frequencies in a sound signal as they vary with time. It is a powerful tool for analyzing the frequency content of audio signals, identifying patterns, and understanding the temporal evolution of sound."
   ]
  },
  {
   "cell_type": "code",
   "execution_count": null,
   "metadata": {},
   "outputs": [],
   "source": [
    "%pip install librosa numpy matplotlib"
   ]
  },
  {
   "cell_type": "code",
   "execution_count": null,
   "metadata": {},
   "outputs": [],
   "source": [
    "import librosa\n",
    "import numpy as np\n",
    "import matplotlib.pyplot as plt\n",
    "import os\n",
    "import sys\n",
    "import logging\n",
    "\n",
    "from IPython.display import Audio, display\n",
    "\n",
    "# Adjust sys.path to include the root directory\n",
    "root_dir = os.path.abspath(os.path.join(os.getcwd(), '../../'))\n",
    "if root_dir not in sys.path:\n",
    "    sys.path.append(root_dir)\n",
    "\n",
    "# Local Imports\n",
    "from config.parameters import (\n",
    "    AUDIO_FILES,\n",
    "    OUTPUT_DIRS,\n",
    "    DEFAULT_HOP_LENGTH,\n",
    "    DEFAULT_N_FFT,\n",
    ")"
   ]
  },
  {
   "cell_type": "code",
   "execution_count": null,
   "metadata": {},
   "outputs": [],
   "source": [
    "def load_audio(file_key):\n",
    "    \"\"\"\n",
    "    Load an audio file.\n",
    "\n",
    "    Args:\n",
    "        file_key (str): Key to identify the audio file in AUDIO_FILES.\n",
    "\n",
    "    Returns:\n",
    "        tuple: Audio time series and sampling rate.\n",
    "    \"\"\"\n",
    "    audio_file = AUDIO_FILES.get(file_key)\n",
    "    if not audio_file:\n",
    "        logging.error(f\"Audio file key '{file_key}' not found.\")\n",
    "        raise ValueError(f\"Audio file key '{file_key}' not found.\")\n",
    "    \n",
    "    try:\n",
    "        y, sr = librosa.load(audio_file)\n",
    "        logging.info(f\"Loaded audio file: {audio_file}\")\n",
    "        return y, sr\n",
    "    \n",
    "    except Exception as e:\n",
    "        logging.error(f\"Failed to load audio file: {e}\")\n",
    "        raise"
   ]
  },
  {
   "cell_type": "code",
   "execution_count": null,
   "metadata": {},
   "outputs": [],
   "source": [
    "def compute_spectrogram(y, sr, n_fft=DEFAULT_N_FFT, hop_length=DEFAULT_HOP_LENGTH):\n",
    "    \"\"\"\n",
    "    Compute the spectrogram of the audio signal.\n",
    "\n",
    "    Args:\n",
    "        y (np.ndarray): Audio time series.\n",
    "        sr (int): Sampling rate.\n",
    "        n_fft (int, optional): Number of FFT components. Defaults to DEFAULT_N_FFT.\n",
    "        hop_length (int, optional): Number of samples between successive frames. Defaults to DEFAULT_HOP_LENGTH.\n",
    "\n",
    "    Returns:\n",
    "        np.ndarray: Spectrogram.\n",
    "    \"\"\"\n",
    "    D = np.abs(librosa.stft(y, n_fft=n_fft, hop_length=hop_length))\n",
    "    logging.info(\"Computed spectrogram.\")\n",
    "    return D"
   ]
  },
  {
   "cell_type": "code",
   "execution_count": null,
   "metadata": {},
   "outputs": [],
   "source": [
    "def plot_and_save_spectrogram(D, sr, hop_length, output_path):\n",
    "    \"\"\"\n",
    "    Plot and save the spectrogram.\n",
    "\n",
    "    Args:\n",
    "        D (np.ndarray): Spectrogram.\n",
    "        sr (int): Sampling rate.\n",
    "        hop_length (int): Number of samples between successive frames.\n",
    "        output_path (str): Path to save the spectrogram plot.\n",
    "    \"\"\"\n",
    "    plt.figure(figsize=FIGURE_SIZE)\n",
    "    librosa.display.specshow(\n",
    "        librosa.amplitude_to_db(D, ref=np.max),\n",
    "        sr=sr,\n",
    "        hop_length=hop_length,\n",
    "        x_axis='time',\n",
    "        y_axis='log'\n",
    "    )\n",
    "    plt.colorbar(format='%+2.0f dB')\n",
    "    plt.title('Spectrogram')\n",
    "    plt.xlabel('Time (s)')\n",
    "    plt.ylabel('Frequency (Hz)')\n",
    "    plt.tight_layout()\n",
    "    \n",
    "    plt.savefig(output_path, facecolor=BACKGROUND_COLOR)\n",
    "    plt.show()\n",
    "    \n",
    "    logging.info(f\"Spectrogram plot saved to: {output_path}\")"
   ]
  },
  {
   "cell_type": "code",
   "execution_count": null,
   "metadata": {},
   "outputs": [],
   "source": [
    "# Load Audio File\n",
    "y, sr = load_audio(\"sax_a3\")\n",
    "\n",
    "# Compute Spectrogram\n",
    "D = compute_spectrogram(y, sr)\n",
    "\n",
    "# Define Output Path\n",
    "output_dir = OUTPUT_DIRS[\"frequency_domain\"]\n",
    "output_path = os.path.join(output_dir, 'Spectrogram.png')\n",
    "\n",
    "# Plot and Save Spectrogram\n",
    "plot_and_save_spectrogram(D, sr, DEFAULT_HOP_LENGTH, output_path)"
   ]
  }
 ],
 "metadata": {
  "kernelspec": {
   "display_name": "sound-analysis",
   "language": "python",
   "name": "python3"
  },
  "language_info": {
   "codemirror_mode": {
    "name": "ipython",
    "version": 3
   },
   "file_extension": ".py",
   "mimetype": "text/x-python",
   "name": "python",
   "nbconvert_exporter": "python",
   "pygments_lexer": "ipython3",
   "version": "3.11.8"
  }
 },
 "nbformat": 4,
 "nbformat_minor": 2
}
