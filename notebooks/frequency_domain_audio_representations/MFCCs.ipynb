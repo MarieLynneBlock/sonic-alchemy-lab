{
 "cells": [
  {
   "cell_type": "markdown",
   "metadata": {},
   "source": [
    "# **Mel-Frequency Cepstral Coefficients (MFCCs)**\n",
    "MFCCs are coefficients that collectively make up an MFC. They are derived from the Fourier transform of a signal and are widely used in speech and audio processing."
   ]
  },
  {
   "cell_type": "code",
   "execution_count": null,
   "metadata": {},
   "outputs": [],
   "source": [
    "%pip install librosa numpy matplotlib"
   ]
  },
  {
   "cell_type": "code",
   "execution_count": null,
   "metadata": {},
   "outputs": [],
   "source": [
    "import librosa\n",
    "import numpy as np\n",
    "import matplotlib.pyplot as plt\n",
    "import os\n",
    "import sys\n",
    "import logging\n",
    "\n",
    "from IPython.display import Audio, display"
   ]
  },
  {
   "cell_type": "code",
   "execution_count": null,
   "metadata": {},
   "outputs": [],
   "source": [
    "# Adjust sys.path to include the root directory\n",
    "logging.info(\"Adjusting sys.path to include the root directory\")\n",
    "root_dir = os.path.abspath(os.path.join(os.getcwd(), '../../'))\n",
    "if root_dir not in sys.path:\n",
    "    sys.path.append(root_dir)\n",
    "logging.info(f\"sys.path adjusted: {sys.path}\")"
   ]
  },
  {
   "cell_type": "code",
   "execution_count": null,
   "metadata": {},
   "outputs": [],
   "source": [
    "# Local Imports & Parameters\n",
    "logging.info(\"Local configurations and parameters imported\")\n",
    "from config.config import audio_config, output_config\n",
    "from config.parameters import *\n",
    "\n",
    "from config.logging import setup_logging\n",
    "# from config.utils import ensure_directory\n",
    "\n",
    "# Plot configurations\n",
    "from config.matplotlib_plots import configure_plot\n",
    "from config.matplotlib_plots import create_custom_colormap\n",
    "logging.info(\"Local configurations and parameters imported\")"
   ]
  },
  {
   "cell_type": "code",
   "execution_count": null,
   "metadata": {},
   "outputs": [],
   "source": [
    "# Set up logging for this notebook\n",
    "logging.info(\"Setting up logging for the notebook\")\n",
    "notebook_path = os.path.join(os.getcwd(), 'MFCCs.ipynb')\n",
    "setup_logging(notebook_path)\n",
    "logging.info(\"Logging set up complete\")"
   ]
  },
  {
   "cell_type": "code",
   "execution_count": null,
   "metadata": {},
   "outputs": [],
   "source": [
    "# Set the audio file to analyse\n",
    "logging.info(\"Setting the audio file to analyse\")\n",
    "audio_file_key = AUDIO_FILE_SAX_A3\n",
    "audio_file_path = audio_config.get_audio_file(audio_file_key)\n",
    "\n",
    "logging.info(f\"Audio file set to: {audio_file_path}\")"
   ]
  },
  {
   "cell_type": "code",
   "execution_count": null,
   "metadata": {},
   "outputs": [],
   "source": [
    "def analyse_audio(audio_file_path):\n",
    "    \"\"\"\n",
    "    Load an audio file, calculate its MFCCs, and plot the MFCCs.\n",
    "\n",
    "    Args:\n",
    "        audio_file_path (str): Path to the audio file.\n",
    "\n",
    "    Returns:\n",
    "        tuple: (y, sr, mfccs)\n",
    "            y: Audio time series\n",
    "            sr: Sampling rate\n",
    "            mfccs: MFCCs of the audio\n",
    "    \"\"\"\n",
    "    try:\n",
    "        logging.info(f\"Loading audio file from: {audio_file_path}\")\n",
    "        y, sr = librosa.load(audio_file_path, sr=None)\n",
    "\n",
    "        logging.info(\"Calculating MFCCs\")\n",
    "        mfccs = librosa.feature.mfcc(y=y, sr=sr, n_mfcc=13)\n",
    "\n",
    "        return y, sr, mfccs\n",
    "\n",
    "    except FileNotFoundError:\n",
    "        logging.error(f\"File not found: {audio_file_path}\")\n",
    "    except Exception as e:\n",
    "        logging.error(f\"An error occurred: {e}\")"
   ]
  },
  {
   "cell_type": "code",
   "execution_count": null,
   "metadata": {},
   "outputs": [],
   "source": [
    "try:\n",
    "    y, sr, mfccs = analyse_audio(audio_file_path)\n",
    "    logging.info(f\"Successfully analysed audio file {audio_file_path}\")\n",
    "\n",
    "except Exception as e:\n",
    "    logging.error(f\"Error analysing audio file {audio_file_path}: {e}\")\n",
    "    raise\n",
    "\n",
    "# Display the audio\n",
    "audio_display = Audio(audio_file_path)\n",
    "audio_display"
   ]
  },
  {
   "cell_type": "code",
   "execution_count": null,
   "metadata": {},
   "outputs": [],
   "source": [
    "# Function to ensure the directory exists\n",
    "def ensure_directory(directory):\n",
    "    if not os.path.exists(directory):\n",
    "        os.makedirs(directory)\n"
   ]
  },
  {
   "cell_type": "code",
   "execution_count": null,
   "metadata": {},
   "outputs": [],
   "source": [
    "# Plot the MFCCs\n",
    "logging.info(\"Plotting the MFCCs\")\n",
    "fig, ax = plt.subplots(figsize=(14, 5))\n",
    "\n",
    "# Extract the file name from the file path\n",
    "file_name = os.path.basename(audio_file_path)\n",
    "file_base_name, _ = os.path.splitext(file_name)\n",
    "\n",
    "# Plot the MFCCs\n",
    "img = librosa.display.specshow(mfccs, x_axis='time', ax=ax, cmap=custom_cmap)\n",
    "cbar = fig.colorbar(img, ax=ax)\n",
    "\n",
    "# Set color for the color bar labels and spine\n",
    "cbar.ax.yaxis.set_tick_params(color=SPINE_COLOR)\n",
    "plt.setp(plt.getp(cbar.ax.axes, 'yticklabels'), color=SPINE_COLOR)\n",
    "cbar.ax.yaxis.label.set_color(SPINE_COLOR)\n",
    "cbar.outline.set_edgecolor(SPINE_COLOR)\n",
    "for spine in cbar.ax.spines.values():\n",
    "    spine.set_edgecolor(SPINE_COLOR)\n",
    "\n",
    "# Configure the plot\n",
    "configure_plot(ax, title=file_name, subtitle=\"MFCCs\")\n",
    "\n",
    "# Ensure the output directory exists\n",
    "output_directory = output_config.get_output_directory(\"frequency_domain\")\n",
    "ensure_directory(output_directory)\n",
    "\n",
    "# Save the plot\n",
    "output_path = os.path.join(output_directory, f'MFCC_{file_base_name}.png')\n",
    "plt.savefig(output_path, facecolor=BACKGROUND_COLOR)\n",
    "\n",
    "# Log the saved plot location\n",
    "logging.info(f\"Plot saved to: {output_path}\")\n",
    "\n",
    "# Show the plot\n",
    "plt.show()"
   ]
  }
 ],
 "metadata": {
  "kernelspec": {
   "display_name": "sound-analysis",
   "language": "python",
   "name": "python3"
  },
  "language_info": {
   "codemirror_mode": {
    "name": "ipython",
    "version": 3
   },
   "file_extension": ".py",
   "mimetype": "text/x-python",
   "name": "python",
   "nbconvert_exporter": "python",
   "pygments_lexer": "ipython3",
   "version": "3.11.8"
  }
 },
 "nbformat": 4,
 "nbformat_minor": 2
}
