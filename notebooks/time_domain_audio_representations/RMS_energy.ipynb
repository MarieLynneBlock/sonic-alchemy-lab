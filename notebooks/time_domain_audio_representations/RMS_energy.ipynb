{
 "cells": [
  {
   "attachments": {},
   "cell_type": "markdown",
   "metadata": {},
   "source": [
    " # **Root Mean Square (RMS) Energy**\n",
    "RMS Energy is a measure of the power of an audio signal, reflecting its loudness over time. Unlike the amplitude envelope, which captures peak values, RMS Energy provides an average measurement of the signal's strength within specific time frames. This makes it a valuable tool for understanding the overall intensity and energy of a sound. By analysing RMS Energy, we can gain insights into the perceived loudness and dynamic range of the audio, helping to identify moments of high energy, as well as more subtle or quiet passages."
   ]
  },
  {
   "cell_type": "code",
   "execution_count": null,
   "metadata": {},
   "outputs": [],
   "source": [
    "%pip install librosa numpy matplotlib"
   ]
  },
  {
   "cell_type": "code",
   "execution_count": null,
   "metadata": {},
   "outputs": [],
   "source": [
    "import librosa\n",
    "import logging\n",
    "import os\n",
    "import sys\n",
    "\n",
    "import numpy as np\n",
    "import matplotlib.pyplot as plt\n",
    "import logging\n",
    "\n",
    "from IPython.display import Audio, display"
   ]
  },
  {
   "cell_type": "code",
   "execution_count": null,
   "metadata": {},
   "outputs": [],
   "source": [
    "# Adjust sys.path to include the root directory\n",
    "logging.info(\"Adjusting sys.path to include the root directory\")\n",
    "root_dir = os.path.abspath(os.path.join(os.getcwd(), '../../'))\n",
    "if root_dir not in sys.path:\n",
    "    sys.path.append(root_dir)\n",
    "logging.info(f\"sys.path adjusted: {sys.path}\")"
   ]
  },
  {
   "cell_type": "code",
   "execution_count": null,
   "metadata": {},
   "outputs": [],
   "source": [
    "# Local Imports & Parameters\n",
    "logging.info(\"Local configurations and parameters imported\")\n",
    "from config.config import audio_config, output_config\n",
    "from config.parameters import *\n",
    "from config.logging import setup_logging\n",
    "\n",
    "# Plot configurations\n",
    "from config.matplotlib_plots import configure_plot\n",
    "logging.info(\"Local configurations and parameters imported\")"
   ]
  },
  {
   "cell_type": "code",
   "execution_count": null,
   "metadata": {},
   "outputs": [],
   "source": [
    "# Set up logging for this notebook\n",
    "logging.info(\"Setting up logging for the notebook\")\n",
    "notebook_path = os.path.join(os.getcwd(), 'RMS_energy.ipynb')\n",
    "setup_logging(notebook_path)\n",
    "logging.info(\"Logging set up complete\")"
   ]
  },
  {
   "cell_type": "code",
   "execution_count": null,
   "metadata": {},
   "outputs": [],
   "source": [
    "# Set the audio file to analyse\n",
    "logging.info(\"Setting the audio file to analyse\")\n",
    "audio_file_key = AUDIO_FILE_SAX_A3\n",
    "audio_file_path = audio_config.get_audio_file(audio_file_key)\n",
    "\n",
    "logging.info(f\"Audio file set to: {audio_file_path}\")"
   ]
  },
  {
   "cell_type": "code",
   "execution_count": null,
   "metadata": {},
   "outputs": [],
   "source": [
    "def analyse_audio(audio_file_path):\n",
    "    \"\"\"\n",
    "    Load an audio file, calculate its RMS energy, and plot the original signal\n",
    "    along with the RMS energy.\n",
    "\n",
    "    Args:\n",
    "        audio_file_path (str): Path to the audio file.\n",
    "\n",
    "    Returns:\n",
    "        tuple: (y, sr, rms_energy, time, t_frames)\n",
    "            y: Audio time series\n",
    "            sr: Sampling rate\n",
    "            rms_energy: RMS energy of the audio\n",
    "            time: Time vector for the original signal\n",
    "            t_frames: Time vector for the RMS energy\n",
    "    \"\"\"\n",
    "    try:\n",
    "        logging.info(f\"Loading audio file from: {audio_file_path}\")\n",
    "        y, sr = librosa.load(audio_file_path, sr=None)\n",
    "\n",
    "        frame_size = 2056\n",
    "        hop_length = 128\n",
    "        logging.info(\"Calculating RMS energy\")\n",
    "        \n",
    "        # Calculate RMS energy\n",
    "        rms_energy = librosa.feature.rms(y=y, frame_length=frame_size, hop_length=hop_length)[0]\n",
    "\n",
    "        time = np.linspace(0, len(y) / sr, num=len(y))\n",
    "        frames_count = rms_energy.shape[0]\n",
    "        t_frames = librosa.frames_to_time(range(frames_count), sr=sr, hop_length=hop_length)\n",
    "\n",
    "        return y, sr, rms_energy, time, t_frames\n",
    "\n",
    "    except FileNotFoundError:\n",
    "        logging.error(f\"File not found: {audio_file_path}\")\n",
    "    except Exception as e:\n",
    "        logging.error(f\"An error occurred: {e}\")"
   ]
  },
  {
   "cell_type": "code",
   "execution_count": null,
   "metadata": {},
   "outputs": [],
   "source": [
    "try:\n",
    "    y, sr, rms_energy, time, t_frames = analyse_audio(audio_file_path)\n",
    "    logging.info(f\"Successfully analysed audio file {audio_file_path}\")\n",
    "\n",
    "except Exception as e:\n",
    "    logging.error(f\"Error analysing audio file {audio_file_path}: {e}\")\n",
    "    raise\n",
    "\n",
    "# Display the audio\n",
    "audio_display = Audio(audio_file_path)\n",
    "audio_display"
   ]
  },
  {
   "cell_type": "code",
   "execution_count": null,
   "metadata": {},
   "outputs": [],
   "source": [
    "def ensure_directory(directory):\n",
    "    if not os.path.exists(directory):\n",
    "        os.makedirs(directory)\n",
    "\n",
    "# Plot the original signal and RMS Energy\n",
    "logging.info(\"Plotting the original signal and RMS energy\")\n",
    "fig, ax = plt.subplots(figsize=(14, 5))\n",
    "\n",
    "# Extract the file name from the file path\n",
    "file_name = os.path.basename(audio_file_path)\n",
    "file_base_name, _ = os.path.splitext(file_name)\n",
    "\n",
    "# Plot the original signal and RMS energy\n",
    "ax.plot(time, y, color=ORIGINAL_SIGNAL_COLOR, label='Original Signal')\n",
    "ax.plot(t_frames, rms_energy, color=RMS_ENERGY_COLOR, label='RMS Energy')\n",
    "\n",
    "# Configure the plot\n",
    "configure_plot(ax, title=file_name, subtitle=\"Original Signal and RMS Energy\")\n",
    "\n",
    "# Ensure the output directory exists\n",
    "output_directory = output_config.get_output_directory(\"time_domain\")\n",
    "ensure_directory(output_directory)\n",
    "\n",
    "# Save the plot\n",
    "output_path = os.path.join(output_directory, f'RMS_{file_base_name}.png')\n",
    "plt.savefig(output_path, facecolor=BACKGROUND_COLOR)\n",
    "\n",
    "# Log the saved plot location\n",
    "logging.info(f\"Plot saved to: {output_path}\")\n",
    "\n",
    "# Show the plot\n",
    "plt.show()"
   ]
  }
 ],
 "metadata": {
  "kernelspec": {
   "display_name": "rms-energy",
   "language": "python",
   "name": "python3"
  },
  "language_info": {
   "codemirror_mode": {
    "name": "ipython",
    "version": 3
   },
   "file_extension": ".py",
   "mimetype": "text/x-python",
   "name": "python",
   "nbconvert_exporter": "python",
   "pygments_lexer": "ipython3",
   "version": "3.11.8"
  },
  "vscode": {
   "interpreter": {
    "hash": "bb25b516e2fb46c65fc4b7f7bd6d743313ed17f313e5af4272cc15d4b730eb89"
   }
  }
 },
 "nbformat": 4,
 "nbformat_minor": 2
}
