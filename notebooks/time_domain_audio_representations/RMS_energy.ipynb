{
 "cells": [
  {
   "attachments": {},
   "cell_type": "markdown",
   "metadata": {},
   "source": [
    " # **Root Mean Square (RMS) Energy**\n",
    "RMS Energy is a measure of the power of an audio signal, reflecting its loudness over time. Unlike the amplitude envelope, which captures peak values, RMS Energy provides an average measurement of the signal's strength within specific time frames. This makes it a valuable tool for understanding the overall intensity and energy of a sound. By analysing RMS Energy, we can gain insights into the perceived loudness and dynamic range of the audio, helping to identify moments of high energy, as well as more subtle or quiet passages."
   ]
  },
  {
   "cell_type": "code",
   "execution_count": null,
   "metadata": {},
   "outputs": [],
   "source": [
    "%pip install librosa numpy matplotlib"
   ]
  },
  {
   "cell_type": "code",
   "execution_count": null,
   "metadata": {},
   "outputs": [],
   "source": [
    "import librosa\n",
    "import logging\n",
    "import os\n",
    "import sys\n",
    "\n",
    "import numpy as np\n",
    "import matplotlib.pyplot as plt\n",
    "import logging\n",
    "\n",
    "from IPython.display import Audio, display"
   ]
  },
  {
   "cell_type": "code",
   "execution_count": null,
   "metadata": {},
   "outputs": [],
   "source": [
    " # Configure logging\n",
    "logging.basicConfig(level=logging.INFO, format='%(asctime)s - %(levelname)s: %(message)s')"
   ]
  },
  {
   "cell_type": "code",
   "execution_count": null,
   "metadata": {},
   "outputs": [],
   "source": [
    "# Access config\n",
    "BASE_DIR = os.path.dirname(os.path.dirname(os.path.abspath('')))\n",
    "sys.path.append(BASE_DIR)\n",
    "\n",
    "from config import TIME_DOMAIN_OUTPUT_DIR, ensure_directory\n",
    "\n",
    "\n",
    "# List audio files for easy access\n",
    "from config import AUDIO_FILE_SAX_A3, AUDIO_FILE_SUNO_WITS"
   ]
  },
  {
   "cell_type": "code",
   "execution_count": null,
   "metadata": {},
   "outputs": [],
   "source": [
    "def plot_rms_energy_custom_layout(audio_file):\n",
    "    \n",
    "    # Load audio file\n",
    "    y, sr = librosa.load(audio_file)\n",
    "\n",
    "    # Calculate the amplitude envelope\n",
    "    hop_length = 512\n",
    "    frame_length = 1024\n",
    "    amplitude_envelope = np.array([\n",
    "        max(y[i:i+frame_length]) for i in range(0, len(y), hop_length)\n",
    "    ])\n",
    "        \n",
    "    # Calculate RMS energy\n",
    "    rms_energy = librosa.feature.rms(y=y, frame_length=frame_length, hop_length=hop_length)[0]\n",
    "\n",
    "    # Plotting with custom layout\n",
    "    times = librosa.times_like(amplitude_envelope, sr=sr, hop_length=hop_length)\n",
    "    fig, ax = plt.subplots(figsize=(14, 5))\n",
    "    fig.patch.set_facecolor('#2E3440')  # Background color\n",
    "\n",
    "    # Extract the file name from the file path\n",
    "    file_name = os.path.basename(audio_file)\n",
    "    file_base_name, _ = os.path.splitext(file_name)\n",
    "\n",
    "    # Plot original signal and RMS Energy\n",
    "    ax.plot(times, amplitude_envelope, color='#81A1C1', label='Amplitude Envelope')\n",
    "    ax.plot(times, rms_energy, color='#BF616A', label='RMS Energy')\n",
    "\n",
    "    # Add the title and subtitle\n",
    "    ax.text(0.5, 1.10, file_name, transform=ax.transAxes, fontsize=14, fontweight='bold', color='#D8DEE9', ha='center')\n",
    "    ax.text(0.5, 1.04, \"Amplitude Envelope and RMS Energy\", transform=ax.transAxes, fontsize=12, fontweight='normal', color='#D8DEE9', ha='center')\n",
    "\n",
    "    # Set axis labels and colors\n",
    "    ax.set_xlabel('Time [s]', color='#D8DEE9')\n",
    "    ax.set_ylabel('Amplitude', color='#D8DEE9')\n",
    "    ax.set_facecolor('#2E3440')\n",
    "    ax.spines['bottom'].set_color('#D8DEE9')\n",
    "    ax.spines['top'].set_color('#D8DEE9')\n",
    "    ax.spines['right'].set_color('#D8DEE9')\n",
    "    ax.spines['left'].set_color('#D8DEE9')\n",
    "    ax.tick_params(axis='x', colors='#D8DEE9')\n",
    "    ax.tick_params(axis='y', colors='#D8DEE9')\n",
    "\n",
    "    # Customise the legend\n",
    "    legend = ax.legend(facecolor='#2E3440', edgecolor='#D8DEE9', labelcolor='#D8DEE9')\n",
    "    for text in legend.get_texts():\n",
    "        text.set_color('#D8DEE9')\n",
    "\n",
    "    # Ensure the output directory exists\n",
    "    output_directory = TIME_DOMAIN_OUTPUT_DIR\n",
    "    ensure_directory(output_directory)\n",
    "\n",
    "    # Save the plot\n",
    "    output_path = os.path.join(output_directory, f'RMS_{file_base_name}.png')\n",
    "    plt.savefig(output_path, facecolor='#2E3440')\n",
    "\n",
    "    # Show the plot\n",
    "    plt.show()\n",
    "\n",
    "    # Log the saved plot location\n",
    "    logging.info(f\"RMS Energy plot saved to: {output_path}\")\n",
    "    "
   ]
  },
  {
   "cell_type": "code",
   "execution_count": null,
   "metadata": {},
   "outputs": [],
   "source": [
    "audio_file_path = AUDIO_FILE_SAX_A3\n",
    "\n",
    "# Call RMS Energy analysis function\n",
    "plot_rms_energy_custom_layout(audio_file_path)"
   ]
  }
 ],
 "metadata": {
  "kernelspec": {
   "display_name": "rms-energy",
   "language": "python",
   "name": "python3"
  },
  "language_info": {
   "codemirror_mode": {
    "name": "ipython",
    "version": 3
   },
   "file_extension": ".py",
   "mimetype": "text/x-python",
   "name": "python",
   "nbconvert_exporter": "python",
   "pygments_lexer": "ipython3",
   "version": "3.11.9"
  },
  "vscode": {
   "interpreter": {
    "hash": "bb25b516e2fb46c65fc4b7f7bd6d743313ed17f313e5af4272cc15d4b730eb89"
   }
  }
 },
 "nbformat": 4,
 "nbformat_minor": 2
}
